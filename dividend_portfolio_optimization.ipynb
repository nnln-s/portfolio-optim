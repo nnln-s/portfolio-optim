{
 "cells": [
  {
   "cell_type": "markdown",
   "metadata": {},
   "source": [
    "## Portfolio Optimization using Julia\n",
    "Typical portfolio optimization problems focus on maximizing expected returns. The techniques that are used are typically linear programming, mixed integer programming, among others. \n",
    "\n",
    "This is a simple example of how linear programming can be applied to a portfolio optimization problem where the focus, or objective, is to maximize monthly dividend income...\n",
    "\n",
    "An investor has only so much money to invest in a portfolio of different dividend stocks/ETFs. How does he/she choose the optimal amount of each stock/ETF in such a way to maximize his/her dividend income, while making sure a diversified portfolio is maintained?\n",
    "\n",
    "This is a problem that can be solved by linear optimization.\n",
    "\n",
    "In this case, our unknowns (variables) are how many shares of each stock to hold, and our constraints are 1) the amount available to invest, and 2) the portfolio should be diversified to a certain extent.\n",
    "\n",
    "Let's say we want to invest in 4 stocks only, and their prices and dividend yields are as follows:\n",
    "\n",
    "Ticker Price Dividend Yield\n",
    "XUT    26.8  0.095\n",
    "XTR    10.5  0.05\n",
    "XRE    15.0  0.058\n",
    "FIE    6.34  0.04\n",
    "\n",
    "Furthermore, the amount the investor can invest is $75,000, and the investor does not want a single stock to be more than a third of his portfolio.\n",
    "\n",
    "This all can be formulated as follows.\n"
   ]
  },
  {
   "cell_type": "markdown",
   "metadata": {},
   "source": [
    "Maximize:\n",
    "\n",
    "Total Dividends:\n",
    "\\begin{equation*} \\sum_{i \\in I} dividend_{i} * shares_{i} \\end{equation*}\n",
    "\n",
    "Subject to:\n",
    "\\begin{equation*} \\sum_{i \\in I} price_{i} * shares_{i} <= 75,000 \\end{equation*}\n",
    "\n",
    "\\begin{equation*} price_{i} * shares_{i} <= 75000 * 0.33 \\end{equation*}\n",
    "\\begin{equation*} price_{i} * shares_{i} >= 0.0 \\end{equation*}\n"
   ]
  },
  {
   "cell_type": "markdown",
   "metadata": {},
   "source": [
    "This can be done easily in Julia using the JuMP and GLPK packages..."
   ]
  },
  {
   "cell_type": "code",
   "execution_count": 1,
   "metadata": {},
   "outputs": [],
   "source": [
    "using JuMP\n",
    "using GLPK"
   ]
  },
  {
   "cell_type": "code",
   "execution_count": 2,
   "metadata": {},
   "outputs": [
    {
     "data": {
      "text/latex": [
       "$$ \\begin{alignat*}{1}\\text{feasibility}\\\\\n",
       "\\text{Subject to} \\quad\\end{alignat*}\n",
       " $$"
      ],
      "text/plain": [
       "A JuMP Model\n",
       "Feasibility problem with:\n",
       "Variables: 0\n",
       "Model mode: AUTOMATIC\n",
       "CachingOptimizer state: EMPTY_OPTIMIZER\n",
       "Solver name: GLPK"
      ]
     },
     "execution_count": 2,
     "metadata": {},
     "output_type": "execute_result"
    }
   ],
   "source": [
    "m = Model(GLPK.Optimizer)"
   ]
  },
  {
   "cell_type": "code",
   "execution_count": 3,
   "metadata": {},
   "outputs": [
    {
     "data": {
      "text/plain": [
       "75000"
      ]
     },
     "execution_count": 3,
     "metadata": {},
     "output_type": "execute_result"
    }
   ],
   "source": [
    "# tickers: XUT, XTR, XRE, FIE\n",
    "div = [0.095 0.05 0.058 0.04]\n",
    "price = [26.8 10.5 15.0 6.34]\n",
    "limit = 75000"
   ]
  },
  {
   "cell_type": "code",
   "execution_count": 4,
   "metadata": {},
   "outputs": [
    {
     "data": {
      "text/plain": [
       "4-element Array{VariableRef,1}:\n",
       " shares[1]\n",
       " shares[2]\n",
       " shares[3]\n",
       " shares[4]"
      ]
     },
     "execution_count": 4,
     "metadata": {},
     "output_type": "execute_result"
    }
   ],
   "source": [
    "@variable(m, shares[1:4])"
   ]
  },
  {
   "cell_type": "code",
   "execution_count": 5,
   "metadata": {},
   "outputs": [
    {
     "data": {
      "text/latex": [
       "$$ 0.095 shares_{1} + 0.05 shares_{2} + 0.058 shares_{3} + 0.04 shares_{4} $$"
      ],
      "text/plain": [
       "0.095 shares[1] + 0.05 shares[2] + 0.058 shares[3] + 0.04 shares[4]"
      ]
     },
     "execution_count": 5,
     "metadata": {},
     "output_type": "execute_result"
    }
   ],
   "source": [
    "@objective(m, Max, sum(div[i] * shares[i] for i in 1:4))"
   ]
  },
  {
   "cell_type": "code",
   "execution_count": 6,
   "metadata": {},
   "outputs": [],
   "source": [
    "@constraint(m, sum(price[i] * shares[i] for i in 1:4) <= limit)\n",
    "\n",
    "for i in 1:4\n",
    "    @constraint(m, price[i] * shares[i] .<= limit * 0.33)\n",
    "    @constraint(m, price[i] * shares[i] .>= 0.0)\n",
    "end"
   ]
  },
  {
   "cell_type": "code",
   "execution_count": 7,
   "metadata": {},
   "outputs": [
    {
     "name": "stdout",
     "output_type": "stream",
     "text": [
      "The optimization problem to be solved is:\n",
      "Max 0.095 shares[1] + 0.05 shares[2] + 0.058 shares[3] + 0.04 shares[4]\n",
      "Subject to\n",
      " 26.8 shares[1] ≥ 0.0\n",
      " 10.5 shares[2] ≥ 0.0\n",
      " 15 shares[3] ≥ 0.0\n",
      " 6.34 shares[4] ≥ 0.0\n",
      " 26.8 shares[1] + 10.5 shares[2] + 15 shares[3] + 6.34 shares[4] ≤ 75000.0\n",
      " 26.8 shares[1] ≤ 24750.0\n",
      " 10.5 shares[2] ≤ 24750.0\n",
      " 15 shares[3] ≤ 24750.0\n",
      " 6.34 shares[4] ≤ 24750.0\n",
      "\n"
     ]
    }
   ],
   "source": [
    "println(\"The optimization problem to be solved is:\")\n",
    "println(m)"
   ]
  },
  {
   "cell_type": "code",
   "execution_count": 8,
   "metadata": {},
   "outputs": [
    {
     "data": {
      "text/plain": [
       "4-element Array{Float64,1}:\n",
       "   27.98507462686567\n",
       " 2357.1428571428573 \n",
       " 1650.0             \n",
       " 3903.7854889589908 "
      ]
     },
     "execution_count": 8,
     "metadata": {},
     "output_type": "execute_result"
    }
   ],
   "source": [
    "JuMP.optimize!(m)\n",
    "optimvalue = JuMP.objective_value(m)\n",
    "shares = JuMP.value.(shares)"
   ]
  },
  {
   "cell_type": "code",
   "execution_count": 11,
   "metadata": {},
   "outputs": [
    {
     "name": "stdout",
     "output_type": "stream",
     "text": [
      "Total dividends: 372.0\n",
      "Stock 1 (XUT) shares: 28.0; total $: 750.0\n",
      "Stock 2 (XTR) shares: 2357.0; total $: 24750.0\n",
      "Stock 3 (XRE) shares: 1650.0; total $: 24750.0\n",
      "Stock 4 (FIE) shares: 3904.0; total $: 24750.0\n"
     ]
    }
   ],
   "source": [
    "println(\"Total dividends: \", round(optimvalue))\n",
    "println(\"Stock 1 (XUT) shares: \", round(shares[1]), \"; total \\$: \", round(price[1] * shares[1]))\n",
    "println(\"Stock 2 (XTR) shares: \", round(shares[2]), \"; total \\$: \", round(price[2] * shares[2]))\n",
    "println(\"Stock 3 (XRE) shares: \", round(shares[3]), \"; total \\$: \", round(price[3] * shares[3]))\n",
    "println(\"Stock 4 (FIE) shares: \", round(shares[4]), \"; total \\$: \", round(price[4] * shares[4]))"
   ]
  },
  {
   "cell_type": "markdown",
   "metadata": {},
   "source": [
    "So this is saying that dividends would be maximized by investing $24,750 in XTR, XRE, & FIE each, and only $750 in XUT. This is because, for the price of XUT, the dividend yield is much lower relative to the other, cheaper stocks.\n"
   ]
  },
  {
   "cell_type": "markdown",
   "metadata": {},
   "source": [
    "This program could be further improved by adding other constrains, such as volatility. For example, if it is important to an investor that the portfolio value does not fluctuate as much, then we can take into account each stock's volatility measure to make sure that we exclude stocks that make the portfolio's volatility greater than a certain level. Various other constraints could be added."
   ]
  },
  {
   "cell_type": "code",
   "execution_count": null,
   "metadata": {},
   "outputs": [],
   "source": []
  }
 ],
 "metadata": {
  "kernelspec": {
   "display_name": "Julia 1.0.5",
   "language": "julia",
   "name": "julia-1.0"
  },
  "language_info": {
   "file_extension": ".jl",
   "mimetype": "application/julia",
   "name": "julia",
   "version": "1.0.5"
  }
 },
 "nbformat": 4,
 "nbformat_minor": 2
}
